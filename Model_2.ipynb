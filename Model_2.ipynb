{
 "cells": [
  {
   "cell_type": "code",
   "execution_count": 1,
   "metadata": {},
   "outputs": [],
   "source": [
    "from statsmodels.formula.api import ols\n",
    "from statsmodels.stats.diagnostic import linear_rainbow\n",
    "from statsmodels.stats.outliers_influence import variance_inflation_factor\n",
    "\n",
    "import matplotlib.pyplot as plt\n",
    "import numpy as np\n",
    "import pandas as pd\n",
    "import scipy.stats as stats\n",
    "import seaborn as sns\n",
    "import statsmodels.api as sm\n",
    "\n",
    "%matplotlib inline"
   ]
  },
  {
   "cell_type": "code",
   "execution_count": 2,
   "metadata": {},
   "outputs": [],
   "source": [
    "model_2_data = pd.read_csv('C:/Users/PC/Desktop/Moringa_Project1/dsc-phase-2-project/dsc-phase-2-project/data/kc_house_data_new.csv')"
   ]
  },
  {
   "cell_type": "code",
   "execution_count": 3,
   "metadata": {},
   "outputs": [],
   "source": [
    "correlation_data = model_2_data.corr().abs()\n",
    "unstacked_correlation_data = correlation_data.unstack()\n",
    "srt_unstacked_correlation_data = unstacked_correlation_data.sort_values(ascending=False, kind='quicksort')"
   ]
  },
  {
   "cell_type": "code",
   "execution_count": 4,
   "metadata": {},
   "outputs": [
    {
     "data": {
      "text/plain": [
       "sqft_living    sqft_above       0.875918\n",
       "sqft_above     sqft_living      0.875918\n",
       "sqft_living    sqft_living15    0.756306\n",
       "sqft_living15  sqft_living      0.756306\n",
       "bathrooms      sqft_living      0.754232\n",
       "sqft_living    bathrooms        0.754232\n",
       "sqft_above     sqft_living15    0.731911\n",
       "sqft_living15  sqft_above       0.731911\n",
       "sqft_lot15     sqft_lot         0.718062\n",
       "sqft_lot       sqft_lot15       0.718062\n",
       "price          sqft_living      0.701032\n",
       "sqft_living    price            0.701032\n",
       "dtype: float64"
      ]
     },
     "execution_count": 4,
     "metadata": {},
     "output_type": "execute_result"
    }
   ],
   "source": [
    "srt_unstacked_correlation_data.loc[(srt_unstacked_correlation_data != 1.0) & (srt_unstacked_correlation_data > .7)].head(20)"
   ]
  },
  {
   "cell_type": "code",
   "execution_count": 5,
   "metadata": {},
   "outputs": [],
   "source": [
    "# Assuming you want to work with the 'model_2_data' DataFrame\n",
    "independent_data = model_2_data.copy()\n"
   ]
  },
  {
   "cell_type": "code",
   "execution_count": 6,
   "metadata": {},
   "outputs": [],
   "source": [
    "# Assuming 'model_2_data' is your DataFrame\n",
    "independent_data = model_2_data.drop(['price'], axis=1)\n",
    "# Check for non-numeric columns and remove them\n",
    "non_numeric_columns = independent_data.select_dtypes(exclude=['number']).columns\n",
    "independent_data = independent_data.drop(non_numeric_columns, axis=1)\n",
    "# Check for missing values and fill or remove them if necessary\n",
    "independent_data = independent_data.dropna()\n",
    "# Check for infinity values and replace them if necessary\n",
    "independent_data = independent_data.replace([np.inf, -np.inf], np.nan).dropna()\n",
    "# Ensure data types are numeric\n",
    "independent_data = independent_data.astype('float64')\n",
    "# Calculate VIF\n",
    "vif = [variance_inflation_factor(independent_data.values, i) for i in range(independent_data.shape[1])]"
   ]
  },
  {
   "cell_type": "code",
   "execution_count": 7,
   "metadata": {},
   "outputs": [],
   "source": [
    "model_2_data.drop(['sqft_above', 'sqft_basement', 'sqft_living15', 'sqft_lot15'], axis=1, inplace=True)"
   ]
  },
  {
   "cell_type": "markdown",
   "metadata": {},
   "source": [
    "#### Create Dummy Variables for Seasons"
   ]
  },
  {
   "cell_type": "code",
   "execution_count": 8,
   "metadata": {},
   "outputs": [],
   "source": [
    "## Bin 'month' column into seasons\n",
    "labels = ['Winter', 'Spring', 'Summer', 'Fall', 'Winter']\n",
    "model_2_data.month = pd.cut(model_2_data.month, bins=[0,2,5,8,11,12], labels=labels, ordered=False)"
   ]
  },
  {
   "cell_type": "code",
   "execution_count": 9,
   "metadata": {},
   "outputs": [
    {
     "data": {
      "text/plain": [
       "Spring    6477\n",
       "Summer    6228\n",
       "Fall      4981\n",
       "Winter    3659\n",
       "Name: month, dtype: int64"
      ]
     },
     "execution_count": 9,
     "metadata": {},
     "output_type": "execute_result"
    }
   ],
   "source": [
    "model_2_data.month.value_counts()"
   ]
  },
  {
   "cell_type": "code",
   "execution_count": 10,
   "metadata": {
    "scrolled": true
   },
   "outputs": [
    {
     "data": {
      "text/plain": [
       "month\n",
       "Fall      534774.019474\n",
       "Spring    553939.696928\n",
       "Summer    549788.509152\n",
       "Winter    521619.608090\n",
       "Name: price, dtype: float64"
      ]
     },
     "execution_count": 10,
     "metadata": {},
     "output_type": "execute_result"
    }
   ],
   "source": [
    "model_2_data.groupby('month')['price'].mean()"
   ]
  },
  {
   "cell_type": "code",
   "execution_count": 11,
   "metadata": {},
   "outputs": [],
   "source": [
    "season_dummies = pd.get_dummies(model_2_data.month, prefix='Season')"
   ]
  },
  {
   "cell_type": "code",
   "execution_count": 12,
   "metadata": {},
   "outputs": [],
   "source": [
    "## Reorder seasons based on chronology\n",
    "## Exclude 'Season_Spring' to avoid the dummy variable trap\n",
    "season_columns = list(season_dummies.columns)\n",
    "season_columns = [season_columns[2]] + [season_columns[0]] + [season_columns[3]]\n",
    "season_dummies = season_dummies[season_columns]"
   ]
  },
  {
   "cell_type": "code",
   "execution_count": 13,
   "metadata": {},
   "outputs": [],
   "source": [
    "model_2_data = pd.concat([model_2_data, season_dummies], axis=1)"
   ]
  },
  {
   "cell_type": "code",
   "execution_count": 14,
   "metadata": {},
   "outputs": [],
   "source": [
    "model_2_data.drop(['month'], axis=1, inplace=True)"
   ]
  },
  {
   "cell_type": "markdown",
   "metadata": {},
   "source": [
    "#### Create Dummy Variables for Bedrooms"
   ]
  },
  {
   "cell_type": "code",
   "execution_count": 15,
   "metadata": {},
   "outputs": [
    {
     "data": {
      "text/plain": [
       "array([ 3,  2,  4,  5,  1,  6,  7,  8,  9, 11, 10], dtype=int64)"
      ]
     },
     "execution_count": 15,
     "metadata": {},
     "output_type": "execute_result"
    }
   ],
   "source": [
    "model_2_data.bedrooms.unique()"
   ]
  },
  {
   "cell_type": "code",
   "execution_count": 16,
   "metadata": {},
   "outputs": [
    {
     "data": {
      "text/plain": [
       "3     9715\n",
       "4     6846\n",
       "2     2708\n",
       "5     1586\n",
       "6      265\n",
       "1      164\n",
       "7       38\n",
       "8       13\n",
       "9        6\n",
       "10       3\n",
       "11       1\n",
       "Name: bedrooms, dtype: int64"
      ]
     },
     "execution_count": 16,
     "metadata": {},
     "output_type": "execute_result"
    }
   ],
   "source": [
    "model_2_data.bedrooms.value_counts()"
   ]
  },
  {
   "cell_type": "code",
   "execution_count": 17,
   "metadata": {},
   "outputs": [],
   "source": [
    "## Bin 'bedrooms' column\n",
    "bedroom_labels = ['1', '2', '3', '4', '5', '6_up']\n",
    "model_2_data.bedrooms = pd.cut(model_2_data.bedrooms, bins=[0,1,2,3,4,5,11], labels=bedroom_labels, ordered=True)"
   ]
  },
  {
   "cell_type": "code",
   "execution_count": 18,
   "metadata": {},
   "outputs": [
    {
     "data": {
      "text/plain": [
       "3       9715\n",
       "4       6846\n",
       "2       2708\n",
       "5       1586\n",
       "6_up     326\n",
       "1        164\n",
       "Name: bedrooms, dtype: int64"
      ]
     },
     "execution_count": 18,
     "metadata": {},
     "output_type": "execute_result"
    }
   ],
   "source": [
    "model_2_data.bedrooms.value_counts()"
   ]
  },
  {
   "cell_type": "code",
   "execution_count": 19,
   "metadata": {},
   "outputs": [],
   "source": [
    "bedrooms_dummies = pd.get_dummies(model_2_data.bedrooms, prefix='Bedrooms', drop_first=True)"
   ]
  },
  {
   "cell_type": "code",
   "execution_count": 20,
   "metadata": {},
   "outputs": [],
   "source": [
    "model_2_data = pd.concat([model_2_data, bedrooms_dummies], axis=1)\n",
    "model_2_data.drop(['bedrooms'], axis=1, inplace=True)"
   ]
  },
  {
   "cell_type": "markdown",
   "metadata": {},
   "source": [
    "#### Create Dummy Variables for Bathrooms"
   ]
  },
  {
   "cell_type": "code",
   "execution_count": 21,
   "metadata": {},
   "outputs": [],
   "source": [
    "model_2_data.bathrooms = model_2_data.bathrooms.apply(np.floor)\n",
    "model_2_data = model_2_data.astype({'bathrooms':'int'})"
   ]
  },
  {
   "cell_type": "code",
   "execution_count": 22,
   "metadata": {},
   "outputs": [
    {
     "data": {
      "text/plain": [
       "2    10478\n",
       "1     8251\n",
       "3     2217\n",
       "4      335\n",
       "5       48\n",
       "6       12\n",
       "8        2\n",
       "7        2\n",
       "Name: bathrooms, dtype: int64"
      ]
     },
     "execution_count": 22,
     "metadata": {},
     "output_type": "execute_result"
    }
   ],
   "source": [
    "model_2_data.bathrooms.value_counts()"
   ]
  },
  {
   "cell_type": "code",
   "execution_count": 23,
   "metadata": {},
   "outputs": [],
   "source": [
    "## Bin 'bathrooms' column\n",
    "bathroom_labels = ['1', '2', '3', '4', '5_up']\n",
    "model_2_data.bathrooms = pd.cut(model_2_data.bathrooms, bins=[0,1,2,3,4,8], labels=bathroom_labels, ordered=True)"
   ]
  },
  {
   "cell_type": "code",
   "execution_count": 24,
   "metadata": {},
   "outputs": [],
   "source": [
    "bathroom_dummies = pd.get_dummies(model_2_data.bathrooms, prefix='Bathrooms', drop_first=True)"
   ]
  },
  {
   "cell_type": "code",
   "execution_count": 25,
   "metadata": {},
   "outputs": [],
   "source": [
    "model_2_data = pd.concat([model_2_data, bathroom_dummies], axis=1)\n",
    "model_2_data.drop(['bathrooms'], axis=1, inplace=True)"
   ]
  },
  {
   "cell_type": "markdown",
   "metadata": {},
   "source": [
    "#### Create Dummy Variables for Floors"
   ]
  },
  {
   "cell_type": "code",
   "execution_count": 26,
   "metadata": {},
   "outputs": [],
   "source": [
    "model_2_data.floors = model_2_data.floors.apply(np.floor)\n",
    "model_2_data = model_2_data.astype({'floors':'int'})"
   ]
  },
  {
   "cell_type": "code",
   "execution_count": 27,
   "metadata": {},
   "outputs": [],
   "source": [
    "floor_dummies = pd.get_dummies(model_2_data.floors, prefix='Floors', drop_first=True)"
   ]
  },
  {
   "cell_type": "code",
   "execution_count": 28,
   "metadata": {},
   "outputs": [],
   "source": [
    "model_2_data = pd.concat([model_2_data, floor_dummies], axis=1)\n",
    "model_2_data.drop(['floors'], axis=1, inplace=True)"
   ]
  },
  {
   "cell_type": "markdown",
   "metadata": {},
   "source": [
    "#### Create Dummy Variables for View"
   ]
  },
  {
   "cell_type": "code",
   "execution_count": 29,
   "metadata": {},
   "outputs": [],
   "source": [
    "view_dummies = pd.get_dummies(model_2_data.view, prefix='View', drop_first=True)"
   ]
  },
  {
   "cell_type": "code",
   "execution_count": 30,
   "metadata": {},
   "outputs": [],
   "source": [
    "model_2_data = pd.concat([model_2_data, view_dummies], axis=1)\n",
    "model_2_data.drop(['view'], axis=1, inplace=True)"
   ]
  },
  {
   "cell_type": "markdown",
   "metadata": {},
   "source": [
    "#### Create Dummy Variables for Condition"
   ]
  },
  {
   "cell_type": "code",
   "execution_count": 31,
   "metadata": {},
   "outputs": [
    {
     "data": {
      "text/plain": [
       "array(['Average', 'Very Good', 'Good', 'Poor', 'Fair'], dtype=object)"
      ]
     },
     "execution_count": 31,
     "metadata": {},
     "output_type": "execute_result"
    }
   ],
   "source": [
    "model_2_data.condition.unique()"
   ]
  },
  {
   "cell_type": "code",
   "execution_count": 32,
   "metadata": {},
   "outputs": [],
   "source": [
    "condition_dummies = pd.get_dummies(model_2_data.condition, prefix='Condition', drop_first=True)"
   ]
  },
  {
   "cell_type": "code",
   "execution_count": 33,
   "metadata": {},
   "outputs": [],
   "source": [
    "model_2_data = pd.concat([model_2_data, condition_dummies], axis=1)\n",
    "model_2_data.drop(['condition'], axis=1, inplace=True)"
   ]
  },
  {
   "cell_type": "markdown",
   "metadata": {},
   "source": [
    "#### Create Dummy Variables for Grade"
   ]
  },
  {
   "cell_type": "code",
   "execution_count": 34,
   "metadata": {},
   "outputs": [
    {
     "data": {
      "text/plain": [
       "7 Average        8871\n",
       "8 Good           6040\n",
       "9 Better         2606\n",
       "6 Low Average    1968\n",
       "10 Very Good     1130\n",
       "11 Excellent      396\n",
       "5 Fair            219\n",
       "12 Luxury          88\n",
       "4 Low              14\n",
       "13 Mansion         13\n",
       "Name: grade, dtype: int64"
      ]
     },
     "execution_count": 34,
     "metadata": {},
     "output_type": "execute_result"
    }
   ],
   "source": [
    "model_2_data.grade.value_counts()"
   ]
  },
  {
   "cell_type": "code",
   "execution_count": 35,
   "metadata": {},
   "outputs": [],
   "source": [
    "model_2_data['grade'] = pd.to_numeric(model_2_data['grade'], errors='coerce')\n",
    "## Bin 'grade' column\n",
    "grade_labels = ['Average', 'Above_Average', 'High_Quality']\n",
    "model_2_data.grade = pd.cut(model_2_data.grade, bins=[4,7,9,12], labels=grade_labels, ordered=True)"
   ]
  },
  {
   "cell_type": "code",
   "execution_count": 36,
   "metadata": {},
   "outputs": [],
   "source": [
    "grade_dummies = pd.get_dummies(model_2_data.grade, prefix='Grade', drop_first=True)"
   ]
  },
  {
   "cell_type": "code",
   "execution_count": 37,
   "metadata": {},
   "outputs": [],
   "source": [
    "model_2_data = pd.concat([model_2_data, grade_dummies], axis=1)\n",
    "model_2_data.drop(['grade'], axis=1, inplace=True)"
   ]
  },
  {
   "cell_type": "markdown",
   "metadata": {},
   "source": [
    "#### Create Dummy Variables for Yr_Built"
   ]
  },
  {
   "cell_type": "code",
   "execution_count": 38,
   "metadata": {},
   "outputs": [
    {
     "data": {
      "text/plain": [
       "count    21345.000000\n",
       "mean      1971.189318\n",
       "std         29.364301\n",
       "min       1900.000000\n",
       "25%       1952.000000\n",
       "50%       1975.000000\n",
       "75%       1997.000000\n",
       "max       2015.000000\n",
       "Name: yr_built, dtype: float64"
      ]
     },
     "execution_count": 38,
     "metadata": {},
     "output_type": "execute_result"
    }
   ],
   "source": [
    "model_2_data.yr_built.describe()"
   ]
  },
  {
   "cell_type": "code",
   "execution_count": 39,
   "metadata": {},
   "outputs": [],
   "source": [
    "## Bin 'yr_built' column\n",
    "#yr_built_labels = ['1900-1925', '1926-1950', '1951-1975', '1976-2000', '2001-2015']\n",
    "yr_built_labels = ['first_chunk', 'second_chunk', 'third_chunk', 'fourth_chunk', 'fifth_chunk']\n",
    "model_2_data.yr_built = pd.cut(model_2_data.yr_built, bins=[1899,1925,1950,1975,2000,2015], labels=yr_built_labels)"
   ]
  },
  {
   "cell_type": "code",
   "execution_count": 40,
   "metadata": {},
   "outputs": [],
   "source": [
    "yr_built_dummies = pd.get_dummies(model_2_data.yr_built, drop_first=True)"
   ]
  },
  {
   "cell_type": "code",
   "execution_count": 41,
   "metadata": {},
   "outputs": [],
   "source": [
    "model_2_data = pd.concat([model_2_data, yr_built_dummies], axis=1)\n",
    "model_2_data.drop(['yr_built'], axis=1, inplace=True)"
   ]
  },
  {
   "cell_type": "markdown",
   "metadata": {},
   "source": [
    "#### Create Yr_renovated Column"
   ]
  },
  {
   "cell_type": "code",
   "execution_count": 42,
   "metadata": {},
   "outputs": [],
   "source": [
    "model_2_data = model_2_data.astype({'yr_renovated':'int'})"
   ]
  },
  {
   "cell_type": "code",
   "execution_count": 43,
   "metadata": {},
   "outputs": [],
   "source": [
    "def cnst_calc(dataFrame):\n",
    "    if dataFrame['yr_renovated'] > 2004:\n",
    "        val = 1\n",
    "    else:\n",
    "        val = 0\n",
    "    return val"
   ]
  },
  {
   "cell_type": "code",
   "execution_count": 44,
   "metadata": {},
   "outputs": [],
   "source": [
    "model_2_data['renovation_10'] = model_2_data.apply(cnst_calc, axis=1)\n",
    "model_2_data.drop('yr_renovated', axis=1, inplace=True)"
   ]
  },
  {
   "cell_type": "markdown",
   "metadata": {},
   "source": [
    "#### Bin Latitudes and Longitudes"
   ]
  },
  {
   "cell_type": "code",
   "execution_count": 45,
   "metadata": {},
   "outputs": [],
   "source": [
    "## Remove these data to prevent creation of sections with very few homes sold\n",
    "model_2_data = model_2_data.loc[model_2_data.long <= -121.69]"
   ]
  },
  {
   "cell_type": "code",
   "execution_count": 46,
   "metadata": {},
   "outputs": [],
   "source": [
    "min_lat = model_2_data.lat.min()\n",
    "max_lat = model_2_data.lat.max()\n",
    "min_long = model_2_data.long.min()\n",
    "max_long = model_2_data.long.max()\n",
    "thirds_lat = (max_lat - min_lat) / 3\n",
    "thirds_long = (max_long - min_long) / 3"
   ]
  },
  {
   "cell_type": "code",
   "execution_count": 47,
   "metadata": {},
   "outputs": [],
   "source": [
    "model_2_data.rename(columns={'zipcode':'section'}, inplace=True)"
   ]
  },
  {
   "cell_type": "code",
   "execution_count": 48,
   "metadata": {},
   "outputs": [],
   "source": [
    "def section_sorter(row):\n",
    "    section_number = 0\n",
    "    for each_third in range(3):\n",
    "        high_lat = max_lat - thirds_lat*each_third\n",
    "        low_lat = max_lat - thirds_lat*(each_third+1)\n",
    "        for thirds in range(3):\n",
    "            high_long = min_long + thirds_long*(thirds+1)\n",
    "            low_long = min_long + thirds_long*thirds\n",
    "            section_number += 1\n",
    "            if row['lat']<=high_lat and row['lat']>=low_lat and row['long']<=high_long and row['long']>=low_long:\n",
    "                return(section_number)"
   ]
  },
  {
   "cell_type": "code",
   "execution_count": 49,
   "metadata": {},
   "outputs": [],
   "source": [
    "model_2_data.section = model_2_data.apply(section_sorter, axis=1)\n",
    "model_2_data = model_2_data.astype({'section':'int'})"
   ]
  },
  {
   "cell_type": "markdown",
   "metadata": {},
   "source": [
    "#### Create Dummy Variables for Section"
   ]
  },
  {
   "cell_type": "code",
   "execution_count": 50,
   "metadata": {},
   "outputs": [],
   "source": [
    "section_dummies = pd.get_dummies(model_2_data.section, prefix='Section', drop_first=True)"
   ]
  },
  {
   "cell_type": "code",
   "execution_count": 51,
   "metadata": {},
   "outputs": [],
   "source": [
    "model_2_data = pd.concat([model_2_data, section_dummies], axis=1)\n",
    "model_2_data.to_csv('data/graph_data.csv', index=False)\n",
    "model_2_data.drop(['section', 'lat', 'long'], axis=1, inplace=True)"
   ]
  },
  {
   "cell_type": "markdown",
   "metadata": {},
   "source": [
    "## Model 2"
   ]
  },
  {
   "cell_type": "code",
   "execution_count": 53,
   "metadata": {
    "scrolled": false
   },
   "outputs": [
    {
     "name": "stdout",
     "output_type": "stream",
     "text": [
      "                            OLS Regression Results                            \n",
      "==============================================================================\n",
      "Dep. Variable:                  price   R-squared:                       0.684\n",
      "Model:                            OLS   Adj. R-squared:                  0.683\n",
      "Method:                 Least Squares   F-statistic:                     1279.\n",
      "Date:                Fri, 08 Sep 2023   Prob (F-statistic):               0.00\n",
      "Time:                        17:43:37   Log-Likelihood:            -2.9132e+05\n",
      "No. Observations:               21328   AIC:                         5.827e+05\n",
      "Df Residuals:                   21291   BIC:                         5.830e+05\n",
      "Df Model:                          36                                         \n",
      "Covariance Type:            nonrobust                                         \n",
      "=======================================================================================\n",
      "                          coef    std err          t      P>|t|      [0.025      0.975]\n",
      "---------------------------------------------------------------------------------------\n",
      "Intercept            3.814e+05   1.81e+04     21.088      0.000    3.46e+05    4.17e+05\n",
      "sqft_living           255.8757      2.641     96.887      0.000     250.699     261.052\n",
      "sqft_lot               -0.0703      0.037     -1.925      0.054      -0.142       0.001\n",
      "waterfront           6.476e+05   1.73e+04     37.488      0.000    6.14e+05    6.81e+05\n",
      "Season_Summer       -2.487e+04   3685.009     -6.749      0.000   -3.21e+04   -1.76e+04\n",
      "Season_Fall         -3.162e+04   3909.358     -8.090      0.000   -3.93e+04    -2.4e+04\n",
      "Season_Winter       -2.762e+04   4288.839     -6.439      0.000    -3.6e+04   -1.92e+04\n",
      "Bedrooms_2          -1.666e+04   1.68e+04     -0.993      0.321   -4.95e+04    1.62e+04\n",
      "Bedrooms_3           -5.01e+04   1.66e+04     -3.013      0.003   -8.27e+04   -1.75e+04\n",
      "Bedrooms_4          -9.743e+04   1.69e+04     -5.748      0.000   -1.31e+05   -6.42e+04\n",
      "Bedrooms_5          -1.369e+05   1.78e+04     -7.707      0.000   -1.72e+05   -1.02e+05\n",
      "Bedrooms_6_up       -2.525e+05   2.07e+04    -12.174      0.000   -2.93e+05   -2.12e+05\n",
      "Bathrooms_2         -1.065e+04   4071.506     -2.616      0.009   -1.86e+04   -2669.948\n",
      "Bathrooms_3          6.751e+04   6745.763     10.008      0.000    5.43e+04    8.07e+04\n",
      "Bathrooms_4          2.473e+05   1.36e+04     18.133      0.000    2.21e+05    2.74e+05\n",
      "Bathrooms_5_up       7.044e+05   2.83e+04     24.930      0.000    6.49e+05     7.6e+05\n",
      "Floors_2               3.1e+04   4236.279      7.317      0.000    2.27e+04    3.93e+04\n",
      "Floors_3             5.956e+04   9919.779      6.004      0.000    4.01e+04     7.9e+04\n",
      "View_1               2.568e+04   1.06e+04      2.412      0.016    4813.553    4.65e+04\n",
      "View_2              -1.484e+05   5833.626    -25.446      0.000    -1.6e+05   -1.37e+05\n",
      "Condition_Fair      -3581.8526   1.68e+04     -0.214      0.831   -3.65e+04    2.93e+04\n",
      "Condition_Good       3.425e+04   3643.060      9.401      0.000    2.71e+04    4.14e+04\n",
      "Condition_Poor      -7.946e+04      4e+04     -1.985      0.047   -1.58e+05   -1009.528\n",
      "Condition_Very_Good  6.831e+04   5760.048     11.859      0.000     5.7e+04    7.96e+04\n",
      "Grade_Above_Average  3.203e-09   3.12e-09      1.026      0.305   -2.92e-09    9.32e-09\n",
      "Grade_High_Quality   4.982e-09    5.1e-09      0.977      0.328   -5.01e-09     1.5e-08\n",
      "second_chunk        -4.697e+04   5975.331     -7.860      0.000   -5.87e+04   -3.53e+04\n",
      "third_chunk         -9.593e+04   5820.181    -16.483      0.000   -1.07e+05   -8.45e+04\n",
      "fourth_chunk        -1.291e+05   6486.896    -19.896      0.000   -1.42e+05   -1.16e+05\n",
      "fifth_chunk         -1.167e+05   7203.085    -16.200      0.000   -1.31e+05   -1.03e+05\n",
      "renovation_10         1.02e+05   1.31e+04      7.794      0.000    7.63e+04    1.28e+05\n",
      "Section_2            8779.1330   4800.025      1.829      0.067    -629.278    1.82e+04\n",
      "Section_3           -1.678e+05   1.46e+04    -11.484      0.000   -1.96e+05   -1.39e+05\n",
      "Section_4           -1.824e+05   4673.353    -39.030      0.000   -1.92e+05   -1.73e+05\n",
      "Section_5           -1.562e+05   4891.727    -31.934      0.000   -1.66e+05   -1.47e+05\n",
      "Section_6           -1.855e+05   9246.276    -20.064      0.000   -2.04e+05   -1.67e+05\n",
      "Section_7           -2.797e+05   7059.122    -39.627      0.000   -2.94e+05   -2.66e+05\n",
      "Section_8            -2.63e+05   6561.402    -40.076      0.000   -2.76e+05    -2.5e+05\n",
      "Section_9           -2.455e+05   3.33e+04     -7.370      0.000   -3.11e+05    -1.8e+05\n",
      "==============================================================================\n",
      "Omnibus:                    14061.988   Durbin-Watson:                   2.010\n",
      "Prob(Omnibus):                  0.000   Jarque-Bera (JB):           723185.892\n",
      "Skew:                           2.543   Prob(JB):                         0.00\n",
      "Kurtosis:                      31.070   Cond. No.                     1.07e+16\n",
      "==============================================================================\n",
      "\n",
      "Notes:\n",
      "[1] Standard Errors assume that the covariance matrix of the errors is correctly specified.\n",
      "[2] The smallest eigenvalue is 3.62e-19. This might indicate that there are\n",
      "strong multicollinearity problems or that the design matrix is singular.\n"
     ]
    }
   ],
   "source": [
    "# target_variable = 'price'\n",
    "# input_variables = model_2_data.drop('price', axis=1).columns\n",
    "# formula = f\"{target_variable} ~ {' + '.join(input_variables)}\"\n",
    "\n",
    "# Define the target variable and input variables\n",
    "target_variable = 'price'\n",
    "input_variables = [col.strip() for col in model_2_data.drop('price', axis=1).columns]\n",
    "\n",
    "# Construct the formula\n",
    "formula = f\"{target_variable} ~ {' + '.join(input_variables)}\"\n",
    "\n",
    "# Fit the linear regression model\n",
    "model_2_data.rename(columns={'Condition_Very Good': 'Condition_Very_Good'}, inplace=True)\n",
    "model_2 = sm.OLS.from_formula(formula, data=model_2_data).fit()\n",
    "print(model_2.summary())"
   ]
  },
  {
   "cell_type": "markdown",
   "metadata": {},
   "source": [
    "#### Assumption of Normality<br>&emsp;(for Model_2)"
   ]
  },
  {
   "cell_type": "code",
   "execution_count": 54,
   "metadata": {},
   "outputs": [
    {
     "data": {
      "image/png": "[encoded data removed]",
      "text/plain": [
       "<Figure size 432x288 with 1 Axes>"
      ]
     },
     "metadata": {
      "needs_background": "light"
     },
     "output_type": "display_data"
    }
   ],
   "source": [
    "residuals = model_2.resid\n",
    "fig = sm.graphics.qqplot(residuals, dist=stats.norm, fit=True, line='45', alpha=0.2)\n",
    "plt.title('Second Model', size=12);"
   ]
  },
  {
   "cell_type": "markdown",
   "metadata": {},
   "source": [
    "#### Assumption of Homoscedasticity<br>&emsp;(for Model_2)"
   ]
  },
  {
   "cell_type": "code",
   "execution_count": 55,
   "metadata": {},
   "outputs": [
    {
     "data": {
      "image/png": "[encoded data removed]",
      "text/plain": [
       "<Figure size 432x288 with 1 Axes>"
      ]
     },
     "metadata": {
      "needs_background": "light"
     },
     "output_type": "display_data"
    }
   ],
   "source": [
    "fig1,ax1 = plt.subplots()\n",
    "ax1.scatter(x=model_2.predict(), y=residuals, color='green', alpha=0.2)\n",
    "plt.title('Second Model', size=12);"
   ]
  },
  {
   "cell_type": "code",
   "execution_count": 56,
   "metadata": {},
   "outputs": [],
   "source": [
    "model_2_data.to_csv('C:/Users/PC/Desktop/Moringa_Project1/dsc-phase-2-project/dsc-phase-2-project/data/model_2_data.csv', index=False)"
   ]
  },
  {
   "cell_type": "code",
   "execution_count": null,
   "metadata": {},
   "outputs": [],
   "source": []
  }
 ],
 "metadata": {
  "kernelspec": {
   "display_name": "Python 3",
   "language": "python",
   "name": "python3"
  },
  "language_info": {
   "codemirror_mode": {
    "name": "ipython",
    "version": 3
   },
   "file_extension": ".py",
   "mimetype": "text/x-python",
   "name": "python",
   "nbconvert_exporter": "python",
   "pygments_lexer": "ipython3",
   "version": "3.8.5"
  }
 },
 "nbformat": 4,
 "nbformat_minor": 4
}
