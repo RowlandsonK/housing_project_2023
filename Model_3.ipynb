{
 "cells": [
  {
   "cell_type": "code",
   "execution_count": 1,
   "metadata": {},
   "outputs": [],
   "source": [
    "from sklearn.linear_model import LinearRegression\n",
    "from sklearn.metrics import mean_squared_error\n",
    "from sklearn.model_selection import train_test_split\n",
    "from statsmodels.formula.api import ols\n",
    "\n",
    "import matplotlib.pyplot as plt\n",
    "import numpy as np\n",
    "import pandas as pd\n",
    "import scipy.stats as stats\n",
    "import seaborn as sns\n",
    "import statsmodels.api as sm"
   ]
  },
  {
   "cell_type": "code",
   "execution_count": 2,
   "metadata": {},
   "outputs": [],
   "source": [
    "model_3_data = pd.read_csv('data/model_2_data.csv')"
   ]
  },
  {
   "cell_type": "code",
   "execution_count": 3,
   "metadata": {},
   "outputs": [
    {
     "data": {
      "text/html": [
       "<div>\n",
       "<style scoped>\n",
       "    .dataframe tbody tr th:only-of-type {\n",
       "        vertical-align: middle;\n",
       "    }\n",
       "\n",
       "    .dataframe tbody tr th {\n",
       "        vertical-align: top;\n",
       "    }\n",
       "\n",
       "    .dataframe thead th {\n",
       "        text-align: right;\n",
       "    }\n",
       "</style>\n",
       "<table border=\"1\" class=\"dataframe\">\n",
       "  <thead>\n",
       "    <tr style=\"text-align: right;\">\n",
       "      <th></th>\n",
       "      <th>price</th>\n",
       "      <th>sqft_living</th>\n",
       "      <th>sqft_lot</th>\n",
       "      <th>waterfront</th>\n",
       "      <th>Season_Summer</th>\n",
       "      <th>Season_Fall</th>\n",
       "      <th>Season_Winter</th>\n",
       "      <th>Bedrooms_2</th>\n",
       "      <th>Bedrooms_3</th>\n",
       "      <th>Bedrooms_4</th>\n",
       "      <th>...</th>\n",
       "      <th>fifth_chunk</th>\n",
       "      <th>renovation_10</th>\n",
       "      <th>Section_2</th>\n",
       "      <th>Section_3</th>\n",
       "      <th>Section_4</th>\n",
       "      <th>Section_5</th>\n",
       "      <th>Section_6</th>\n",
       "      <th>Section_7</th>\n",
       "      <th>Section_8</th>\n",
       "      <th>Section_9</th>\n",
       "    </tr>\n",
       "  </thead>\n",
       "  <tbody>\n",
       "    <tr>\n",
       "      <th>0</th>\n",
       "      <td>221900</td>\n",
       "      <td>1180</td>\n",
       "      <td>5650</td>\n",
       "      <td>0</td>\n",
       "      <td>0</td>\n",
       "      <td>1</td>\n",
       "      <td>0</td>\n",
       "      <td>0</td>\n",
       "      <td>1</td>\n",
       "      <td>0</td>\n",
       "      <td>...</td>\n",
       "      <td>0</td>\n",
       "      <td>0</td>\n",
       "      <td>0</td>\n",
       "      <td>0</td>\n",
       "      <td>1</td>\n",
       "      <td>0</td>\n",
       "      <td>0</td>\n",
       "      <td>0</td>\n",
       "      <td>0</td>\n",
       "      <td>0</td>\n",
       "    </tr>\n",
       "    <tr>\n",
       "      <th>1</th>\n",
       "      <td>538000</td>\n",
       "      <td>2570</td>\n",
       "      <td>7242</td>\n",
       "      <td>0</td>\n",
       "      <td>0</td>\n",
       "      <td>0</td>\n",
       "      <td>1</td>\n",
       "      <td>0</td>\n",
       "      <td>1</td>\n",
       "      <td>0</td>\n",
       "      <td>...</td>\n",
       "      <td>0</td>\n",
       "      <td>0</td>\n",
       "      <td>0</td>\n",
       "      <td>0</td>\n",
       "      <td>0</td>\n",
       "      <td>0</td>\n",
       "      <td>0</td>\n",
       "      <td>0</td>\n",
       "      <td>0</td>\n",
       "      <td>0</td>\n",
       "    </tr>\n",
       "    <tr>\n",
       "      <th>2</th>\n",
       "      <td>180000</td>\n",
       "      <td>770</td>\n",
       "      <td>10000</td>\n",
       "      <td>0</td>\n",
       "      <td>0</td>\n",
       "      <td>0</td>\n",
       "      <td>1</td>\n",
       "      <td>1</td>\n",
       "      <td>0</td>\n",
       "      <td>0</td>\n",
       "      <td>...</td>\n",
       "      <td>0</td>\n",
       "      <td>0</td>\n",
       "      <td>1</td>\n",
       "      <td>0</td>\n",
       "      <td>0</td>\n",
       "      <td>0</td>\n",
       "      <td>0</td>\n",
       "      <td>0</td>\n",
       "      <td>0</td>\n",
       "      <td>0</td>\n",
       "    </tr>\n",
       "    <tr>\n",
       "      <th>3</th>\n",
       "      <td>604000</td>\n",
       "      <td>1960</td>\n",
       "      <td>5000</td>\n",
       "      <td>0</td>\n",
       "      <td>0</td>\n",
       "      <td>0</td>\n",
       "      <td>1</td>\n",
       "      <td>0</td>\n",
       "      <td>0</td>\n",
       "      <td>1</td>\n",
       "      <td>...</td>\n",
       "      <td>0</td>\n",
       "      <td>0</td>\n",
       "      <td>0</td>\n",
       "      <td>0</td>\n",
       "      <td>1</td>\n",
       "      <td>0</td>\n",
       "      <td>0</td>\n",
       "      <td>0</td>\n",
       "      <td>0</td>\n",
       "      <td>0</td>\n",
       "    </tr>\n",
       "    <tr>\n",
       "      <th>4</th>\n",
       "      <td>510000</td>\n",
       "      <td>1680</td>\n",
       "      <td>8080</td>\n",
       "      <td>0</td>\n",
       "      <td>0</td>\n",
       "      <td>0</td>\n",
       "      <td>1</td>\n",
       "      <td>0</td>\n",
       "      <td>1</td>\n",
       "      <td>0</td>\n",
       "      <td>...</td>\n",
       "      <td>0</td>\n",
       "      <td>0</td>\n",
       "      <td>1</td>\n",
       "      <td>0</td>\n",
       "      <td>0</td>\n",
       "      <td>0</td>\n",
       "      <td>0</td>\n",
       "      <td>0</td>\n",
       "      <td>0</td>\n",
       "      <td>0</td>\n",
       "    </tr>\n",
       "  </tbody>\n",
       "</table>\n",
       "<p>5 rows × 39 columns</p>\n",
       "</div>"
      ],
      "text/plain": [
       "    price  sqft_living  sqft_lot  waterfront  Season_Summer  Season_Fall  \\\n",
       "0  221900         1180      5650           0              0            1   \n",
       "1  538000         2570      7242           0              0            0   \n",
       "2  180000          770     10000           0              0            0   \n",
       "3  604000         1960      5000           0              0            0   \n",
       "4  510000         1680      8080           0              0            0   \n",
       "\n",
       "   Season_Winter  Bedrooms_2  Bedrooms_3  Bedrooms_4  ...  fifth_chunk  \\\n",
       "0              0           0           1           0  ...            0   \n",
       "1              1           0           1           0  ...            0   \n",
       "2              1           1           0           0  ...            0   \n",
       "3              1           0           0           1  ...            0   \n",
       "4              1           0           1           0  ...            0   \n",
       "\n",
       "   renovation_10  Section_2  Section_3  Section_4  Section_5  Section_6  \\\n",
       "0              0          0          0          1          0          0   \n",
       "1              0          0          0          0          0          0   \n",
       "2              0          1          0          0          0          0   \n",
       "3              0          0          0          1          0          0   \n",
       "4              0          1          0          0          0          0   \n",
       "\n",
       "   Section_7  Section_8  Section_9  \n",
       "0          0          0          0  \n",
       "1          0          0          0  \n",
       "2          0          0          0  \n",
       "3          0          0          0  \n",
       "4          0          0          0  \n",
       "\n",
       "[5 rows x 39 columns]"
      ]
     },
     "execution_count": 3,
     "metadata": {},
     "output_type": "execute_result"
    }
   ],
   "source": [
    "model_3_data.head()"
   ]
  },
  {
   "cell_type": "code",
   "execution_count": 4,
   "metadata": {},
   "outputs": [
    {
     "data": {
      "image/png": "[encoded data removed]",
      "text/plain": [
       "<Figure size 432x288 with 1 Axes>"
      ]
     },
     "metadata": {
      "needs_background": "light"
     },
     "output_type": "display_data"
    }
   ],
   "source": [
    "ax = sns.boxplot(x=model_3_data.price)"
   ]
  },
  {
   "cell_type": "code",
   "execution_count": 5,
   "metadata": {},
   "outputs": [],
   "source": [
    "sev_fiv_percentile = np.percentile(model_3_data.price, 75)\n",
    "twe_fiv_percentile = np.percentile(model_3_data.price, 25)\n",
    "price_iqr = sev_fiv_percentile - twe_fiv_percentile"
   ]
  },
  {
   "cell_type": "code",
   "execution_count": 6,
   "metadata": {},
   "outputs": [],
   "source": [
    "## Removes 1119 houses with price outliers\n",
    "model_3_data = model_3_data.loc[(model_3_data.price <= sev_fiv_percentile + 1.5*price_iqr)\n",
    "                              & (model_3_data.price >= twe_fiv_percentile - 1.5*price_iqr)]"
   ]
  },
  {
   "cell_type": "code",
   "execution_count": 7,
   "metadata": {},
   "outputs": [
    {
     "name": "stderr",
     "output_type": "stream",
     "text": [
      "<ipython-input-7-b5e1074264bc>:3: UserWarning: To output multiple subplots, the figure containing the passed axes is being cleared\n",
      "  model_3_data[['sqft_living', 'sqft_lot']].hist(ax=ax);\n"
     ]
    },
    {
     "data": {
      "image/png": "[encoded data removed]",
      "text/plain": [
       "<Figure size 576x288 with 2 Axes>"
      ]
     },
     "metadata": {
      "needs_background": "light"
     },
     "output_type": "display_data"
    }
   ],
   "source": [
    "fig = plt.figure(figsize=(8,4))\n",
    "ax = fig.gca()\n",
    "model_3_data[['sqft_living', 'sqft_lot']].hist(ax=ax);"
   ]
  },
  {
   "cell_type": "code",
   "execution_count": 8,
   "metadata": {},
   "outputs": [
    {
     "data": {
      "image/png": "[encoded data removed]",
      "text/plain": [
       "<Figure size 432x288 with 1 Axes>"
      ]
     },
     "metadata": {
      "needs_background": "light"
     },
     "output_type": "display_data"
    }
   ],
   "source": [
    "ax = sns.boxplot(x=model_3_data.sqft_lot)"
   ]
  },
  {
   "cell_type": "code",
   "execution_count": 9,
   "metadata": {},
   "outputs": [],
   "source": [
    "sev_fiv_percentile_lot = np.percentile(model_3_data.sqft_lot, 75)\n",
    "twe_fiv_percentile_lot = np.percentile(model_3_data.sqft_lot, 25)\n",
    "sqft_lot_iqr = sev_fiv_percentile_lot - twe_fiv_percentile_lot"
   ]
  },
  {
   "cell_type": "code",
   "execution_count": 10,
   "metadata": {},
   "outputs": [],
   "source": [
    "## Removes 2191 houses with sqft_lot outliers\n",
    "model_3_data = model_3_data.loc[(model_3_data.sqft_lot <= sev_fiv_percentile_lot + 1.5*sqft_lot_iqr)\n",
    "                              & (model_3_data.sqft_lot >= twe_fiv_percentile_lot - 1.5*sqft_lot_iqr)]"
   ]
  },
  {
   "cell_type": "code",
   "execution_count": 11,
   "metadata": {},
   "outputs": [
    {
     "name": "stderr",
     "output_type": "stream",
     "text": [
      "<ipython-input-11-383805a4f524>:3: UserWarning: To output multiple subplots, the figure containing the passed axes is being cleared\n",
      "  model_3_data[['sqft_living', 'sqft_lot']].hist(ax=ax);\n"
     ]
    },
    {
     "data": {
      "image/png": "[encoded data removed]",
      "text/plain": [
       "<Figure size 576x288 with 2 Axes>"
      ]
     },
     "metadata": {
      "needs_background": "light"
     },
     "output_type": "display_data"
    }
   ],
   "source": [
    "fig2 = plt.figure(figsize=(8,4))\n",
    "ax = fig2.gca()\n",
    "model_3_data[['sqft_living', 'sqft_lot']].hist(ax=ax);"
   ]
  },
  {
   "cell_type": "code",
   "execution_count": 12,
   "metadata": {},
   "outputs": [],
   "source": [
    "target_variable = 'price'\n",
    "input_variables = model_3_data.drop('price', axis=1).columns\n",
    "formula = target_variable + '~' + '+'.join(input_variables)"
   ]
  },
  {
   "cell_type": "code",
   "execution_count": 13,
   "metadata": {},
   "outputs": [
    {
     "data": {
      "text/html": [
       "<table class=\"simpletable\">\n",
       "<caption>OLS Regression Results</caption>\n",
       "<tr>\n",
       "  <th>Dep. Variable:</th>          <td>price</td>      <th>  R-squared:         </th>  <td>   0.652</td>  \n",
       "</tr>\n",
       "<tr>\n",
       "  <th>Model:</th>                   <td>OLS</td>       <th>  Adj. R-squared:    </th>  <td>   0.651</td>  \n",
       "</tr>\n",
       "<tr>\n",
       "  <th>Method:</th>             <td>Least Squares</td>  <th>  F-statistic:       </th>  <td>   934.0</td>  \n",
       "</tr>\n",
       "<tr>\n",
       "  <th>Date:</th>             <td>Fri, 08 Sep 2023</td> <th>  Prob (F-statistic):</th>   <td>  0.00</td>   \n",
       "</tr>\n",
       "<tr>\n",
       "  <th>Time:</th>                 <td>17:50:55</td>     <th>  Log-Likelihood:    </th> <td>-2.3618e+05</td>\n",
       "</tr>\n",
       "<tr>\n",
       "  <th>No. Observations:</th>      <td> 18001</td>      <th>  AIC:               </th>  <td>4.724e+05</td> \n",
       "</tr>\n",
       "<tr>\n",
       "  <th>Df Residuals:</th>          <td> 17964</td>      <th>  BIC:               </th>  <td>4.727e+05</td> \n",
       "</tr>\n",
       "<tr>\n",
       "  <th>Df Model:</th>              <td>    36</td>      <th>                     </th>      <td> </td>     \n",
       "</tr>\n",
       "<tr>\n",
       "  <th>Covariance Type:</th>      <td>nonrobust</td>    <th>                     </th>      <td> </td>     \n",
       "</tr>\n",
       "</table>\n",
       "<table class=\"simpletable\">\n",
       "<tr>\n",
       "           <td></td>              <th>coef</th>     <th>std err</th>      <th>t</th>      <th>P>|t|</th>  <th>[0.025</th>    <th>0.975]</th>  \n",
       "</tr>\n",
       "<tr>\n",
       "  <th>Intercept</th>           <td> 4.035e+05</td> <td> 1.15e+04</td> <td>   35.180</td> <td> 0.000</td> <td> 3.81e+05</td> <td> 4.26e+05</td>\n",
       "</tr>\n",
       "<tr>\n",
       "  <th>sqft_living</th>         <td>  168.1892</td> <td>    2.066</td> <td>   81.408</td> <td> 0.000</td> <td>  164.140</td> <td>  172.239</td>\n",
       "</tr>\n",
       "<tr>\n",
       "  <th>sqft_lot</th>            <td>   -1.7934</td> <td>    0.358</td> <td>   -5.003</td> <td> 0.000</td> <td>   -2.496</td> <td>   -1.091</td>\n",
       "</tr>\n",
       "<tr>\n",
       "  <th>waterfront</th>          <td>  1.79e+05</td> <td> 2.06e+04</td> <td>    8.675</td> <td> 0.000</td> <td> 1.39e+05</td> <td> 2.19e+05</td>\n",
       "</tr>\n",
       "<tr>\n",
       "  <th>Season_Summer</th>       <td>-1.655e+04</td> <td> 2346.739</td> <td>   -7.053</td> <td> 0.000</td> <td>-2.12e+04</td> <td> -1.2e+04</td>\n",
       "</tr>\n",
       "<tr>\n",
       "  <th>Season_Fall</th>         <td>-2.467e+04</td> <td> 2484.289</td> <td>   -9.932</td> <td> 0.000</td> <td>-2.95e+04</td> <td>-1.98e+04</td>\n",
       "</tr>\n",
       "<tr>\n",
       "  <th>Season_Winter</th>       <td>-2.426e+04</td> <td> 2720.250</td> <td>   -8.920</td> <td> 0.000</td> <td>-2.96e+04</td> <td>-1.89e+04</td>\n",
       "</tr>\n",
       "<tr>\n",
       "  <th>Bedrooms_2</th>          <td> 7337.5216</td> <td> 1.04e+04</td> <td>    0.705</td> <td> 0.481</td> <td>-1.31e+04</td> <td> 2.77e+04</td>\n",
       "</tr>\n",
       "<tr>\n",
       "  <th>Bedrooms_3</th>          <td> -627.6952</td> <td> 1.04e+04</td> <td>   -0.061</td> <td> 0.952</td> <td>-2.09e+04</td> <td> 1.97e+04</td>\n",
       "</tr>\n",
       "<tr>\n",
       "  <th>Bedrooms_4</th>          <td>-1.553e+04</td> <td> 1.06e+04</td> <td>   -1.465</td> <td> 0.143</td> <td>-3.63e+04</td> <td> 5244.954</td>\n",
       "</tr>\n",
       "<tr>\n",
       "  <th>Bedrooms_5</th>          <td>-4.845e+04</td> <td> 1.12e+04</td> <td>   -4.320</td> <td> 0.000</td> <td>-7.04e+04</td> <td>-2.65e+04</td>\n",
       "</tr>\n",
       "<tr>\n",
       "  <th>Bedrooms_6_up</th>       <td>-9.417e+04</td> <td> 1.35e+04</td> <td>   -6.977</td> <td> 0.000</td> <td>-1.21e+05</td> <td>-6.77e+04</td>\n",
       "</tr>\n",
       "<tr>\n",
       "  <th>Bathrooms_2</th>         <td> 8658.0335</td> <td> 2575.265</td> <td>    3.362</td> <td> 0.001</td> <td> 3610.266</td> <td> 1.37e+04</td>\n",
       "</tr>\n",
       "<tr>\n",
       "  <th>Bathrooms_3</th>         <td> 3.601e+04</td> <td> 4477.861</td> <td>    8.042</td> <td> 0.000</td> <td> 2.72e+04</td> <td> 4.48e+04</td>\n",
       "</tr>\n",
       "<tr>\n",
       "  <th>Bathrooms_4</th>         <td> 4.049e+04</td> <td>  1.2e+04</td> <td>    3.382</td> <td> 0.001</td> <td>  1.7e+04</td> <td>  6.4e+04</td>\n",
       "</tr>\n",
       "<tr>\n",
       "  <th>Bathrooms_5_up</th>      <td>-7.944e+04</td> <td> 3.57e+04</td> <td>   -2.226</td> <td> 0.026</td> <td>-1.49e+05</td> <td>-9500.345</td>\n",
       "</tr>\n",
       "<tr>\n",
       "  <th>Floors_2</th>            <td> 3.153e+04</td> <td> 2858.654</td> <td>   11.030</td> <td> 0.000</td> <td> 2.59e+04</td> <td> 3.71e+04</td>\n",
       "</tr>\n",
       "<tr>\n",
       "  <th>Floors_3</th>            <td> 4.012e+04</td> <td> 6213.555</td> <td>    6.457</td> <td> 0.000</td> <td> 2.79e+04</td> <td> 5.23e+04</td>\n",
       "</tr>\n",
       "<tr>\n",
       "  <th>View_1</th>              <td> 1.413e+04</td> <td> 8437.682</td> <td>    1.675</td> <td> 0.094</td> <td>-2406.381</td> <td> 3.07e+04</td>\n",
       "</tr>\n",
       "<tr>\n",
       "  <th>View_2</th>              <td>-1.045e+05</td> <td> 4043.628</td> <td>  -25.852</td> <td> 0.000</td> <td>-1.12e+05</td> <td>-9.66e+04</td>\n",
       "</tr>\n",
       "<tr>\n",
       "  <th>Condition_Fair</th>      <td>-2.732e+04</td> <td> 1.11e+04</td> <td>   -2.461</td> <td> 0.014</td> <td>-4.91e+04</td> <td>-5557.527</td>\n",
       "</tr>\n",
       "<tr>\n",
       "  <th>Condition_Good</th>      <td> 2.744e+04</td> <td> 2329.926</td> <td>   11.777</td> <td> 0.000</td> <td> 2.29e+04</td> <td>  3.2e+04</td>\n",
       "</tr>\n",
       "<tr>\n",
       "  <th>Condition_Poor</th>      <td>-1.164e+05</td> <td> 2.72e+04</td> <td>   -4.285</td> <td> 0.000</td> <td> -1.7e+05</td> <td>-6.32e+04</td>\n",
       "</tr>\n",
       "<tr>\n",
       "  <th>Condition_Very_Good</th> <td> 5.273e+04</td> <td> 3655.328</td> <td>   14.425</td> <td> 0.000</td> <td> 4.56e+04</td> <td> 5.99e+04</td>\n",
       "</tr>\n",
       "<tr>\n",
       "  <th>Grade_Above_Average</th> <td>-6.646e-08</td> <td> 1.99e-08</td> <td>   -3.348</td> <td> 0.001</td> <td>-1.05e-07</td> <td>-2.76e-08</td>\n",
       "</tr>\n",
       "<tr>\n",
       "  <th>Grade_High_Quality</th>  <td> -3.36e-08</td> <td>    1e-08</td> <td>   -3.355</td> <td> 0.001</td> <td>-5.32e-08</td> <td> -1.4e-08</td>\n",
       "</tr>\n",
       "<tr>\n",
       "  <th>second_chunk</th>        <td>-4.435e+04</td> <td> 3725.030</td> <td>  -11.907</td> <td> 0.000</td> <td>-5.17e+04</td> <td>-3.71e+04</td>\n",
       "</tr>\n",
       "<tr>\n",
       "  <th>third_chunk</th>         <td>-8.407e+04</td> <td> 3712.507</td> <td>  -22.645</td> <td> 0.000</td> <td>-9.13e+04</td> <td>-7.68e+04</td>\n",
       "</tr>\n",
       "<tr>\n",
       "  <th>fourth_chunk</th>        <td>-9.624e+04</td> <td> 4172.531</td> <td>  -23.065</td> <td> 0.000</td> <td>-1.04e+05</td> <td>-8.81e+04</td>\n",
       "</tr>\n",
       "<tr>\n",
       "  <th>fifth_chunk</th>         <td>-8.945e+04</td> <td> 4607.056</td> <td>  -19.417</td> <td> 0.000</td> <td>-9.85e+04</td> <td>-8.04e+04</td>\n",
       "</tr>\n",
       "<tr>\n",
       "  <th>renovation_10</th>       <td> 7.365e+04</td> <td> 8586.748</td> <td>    8.578</td> <td> 0.000</td> <td> 5.68e+04</td> <td> 9.05e+04</td>\n",
       "</tr>\n",
       "<tr>\n",
       "  <th>Section_2</th>           <td> 1.222e+04</td> <td> 3178.242</td> <td>    3.845</td> <td> 0.000</td> <td> 5990.236</td> <td> 1.84e+04</td>\n",
       "</tr>\n",
       "<tr>\n",
       "  <th>Section_3</th>           <td>-1.332e+05</td> <td> 1.32e+04</td> <td>  -10.126</td> <td> 0.000</td> <td>-1.59e+05</td> <td>-1.07e+05</td>\n",
       "</tr>\n",
       "<tr>\n",
       "  <th>Section_4</th>           <td>-1.494e+05</td> <td> 2859.464</td> <td>  -52.265</td> <td> 0.000</td> <td>-1.55e+05</td> <td>-1.44e+05</td>\n",
       "</tr>\n",
       "<tr>\n",
       "  <th>Section_5</th>           <td>-1.323e+05</td> <td> 3177.797</td> <td>  -41.632</td> <td> 0.000</td> <td>-1.39e+05</td> <td>-1.26e+05</td>\n",
       "</tr>\n",
       "<tr>\n",
       "  <th>Section_6</th>           <td> -1.38e+05</td> <td> 6323.399</td> <td>  -21.831</td> <td> 0.000</td> <td> -1.5e+05</td> <td>-1.26e+05</td>\n",
       "</tr>\n",
       "<tr>\n",
       "  <th>Section_7</th>           <td>-2.446e+05</td> <td> 4473.704</td> <td>  -54.669</td> <td> 0.000</td> <td>-2.53e+05</td> <td>-2.36e+05</td>\n",
       "</tr>\n",
       "<tr>\n",
       "  <th>Section_8</th>           <td>-2.415e+05</td> <td> 4246.920</td> <td>  -56.869</td> <td> 0.000</td> <td> -2.5e+05</td> <td>-2.33e+05</td>\n",
       "</tr>\n",
       "<tr>\n",
       "  <th>Section_9</th>           <td> -2.84e+05</td> <td> 8.56e+04</td> <td>   -3.319</td> <td> 0.001</td> <td>-4.52e+05</td> <td>-1.16e+05</td>\n",
       "</tr>\n",
       "</table>\n",
       "<table class=\"simpletable\">\n",
       "<tr>\n",
       "  <th>Omnibus:</th>       <td>1812.327</td> <th>  Durbin-Watson:     </th> <td>   1.998</td>\n",
       "</tr>\n",
       "<tr>\n",
       "  <th>Prob(Omnibus):</th>  <td> 0.000</td>  <th>  Jarque-Bera (JB):  </th> <td>3279.935</td>\n",
       "</tr>\n",
       "<tr>\n",
       "  <th>Skew:</th>           <td> 0.692</td>  <th>  Prob(JB):          </th> <td>    0.00</td>\n",
       "</tr>\n",
       "<tr>\n",
       "  <th>Kurtosis:</th>       <td> 4.568</td>  <th>  Cond. No.          </th> <td>1.10e+16</td>\n",
       "</tr>\n",
       "</table><br/><br/>Notes:<br/>[1] Standard Errors assume that the covariance matrix of the errors is correctly specified.<br/>[2] The smallest eigenvalue is 9.99e-21. This might indicate that there are<br/>strong multicollinearity problems or that the design matrix is singular."
      ],
      "text/plain": [
       "<class 'statsmodels.iolib.summary.Summary'>\n",
       "\"\"\"\n",
       "                            OLS Regression Results                            \n",
       "==============================================================================\n",
       "Dep. Variable:                  price   R-squared:                       0.652\n",
       "Model:                            OLS   Adj. R-squared:                  0.651\n",
       "Method:                 Least Squares   F-statistic:                     934.0\n",
       "Date:                Fri, 08 Sep 2023   Prob (F-statistic):               0.00\n",
       "Time:                        17:50:55   Log-Likelihood:            -2.3618e+05\n",
       "No. Observations:               18001   AIC:                         4.724e+05\n",
       "Df Residuals:                   17964   BIC:                         4.727e+05\n",
       "Df Model:                          36                                         \n",
       "Covariance Type:            nonrobust                                         \n",
       "=======================================================================================\n",
       "                          coef    std err          t      P>|t|      [0.025      0.975]\n",
       "---------------------------------------------------------------------------------------\n",
       "Intercept            4.035e+05   1.15e+04     35.180      0.000    3.81e+05    4.26e+05\n",
       "sqft_living           168.1892      2.066     81.408      0.000     164.140     172.239\n",
       "sqft_lot               -1.7934      0.358     -5.003      0.000      -2.496      -1.091\n",
       "waterfront            1.79e+05   2.06e+04      8.675      0.000    1.39e+05    2.19e+05\n",
       "Season_Summer       -1.655e+04   2346.739     -7.053      0.000   -2.12e+04    -1.2e+04\n",
       "Season_Fall         -2.467e+04   2484.289     -9.932      0.000   -2.95e+04   -1.98e+04\n",
       "Season_Winter       -2.426e+04   2720.250     -8.920      0.000   -2.96e+04   -1.89e+04\n",
       "Bedrooms_2           7337.5216   1.04e+04      0.705      0.481   -1.31e+04    2.77e+04\n",
       "Bedrooms_3           -627.6952   1.04e+04     -0.061      0.952   -2.09e+04    1.97e+04\n",
       "Bedrooms_4          -1.553e+04   1.06e+04     -1.465      0.143   -3.63e+04    5244.954\n",
       "Bedrooms_5          -4.845e+04   1.12e+04     -4.320      0.000   -7.04e+04   -2.65e+04\n",
       "Bedrooms_6_up       -9.417e+04   1.35e+04     -6.977      0.000   -1.21e+05   -6.77e+04\n",
       "Bathrooms_2          8658.0335   2575.265      3.362      0.001    3610.266    1.37e+04\n",
       "Bathrooms_3          3.601e+04   4477.861      8.042      0.000    2.72e+04    4.48e+04\n",
       "Bathrooms_4          4.049e+04    1.2e+04      3.382      0.001     1.7e+04     6.4e+04\n",
       "Bathrooms_5_up      -7.944e+04   3.57e+04     -2.226      0.026   -1.49e+05   -9500.345\n",
       "Floors_2             3.153e+04   2858.654     11.030      0.000    2.59e+04    3.71e+04\n",
       "Floors_3             4.012e+04   6213.555      6.457      0.000    2.79e+04    5.23e+04\n",
       "View_1               1.413e+04   8437.682      1.675      0.094   -2406.381    3.07e+04\n",
       "View_2              -1.045e+05   4043.628    -25.852      0.000   -1.12e+05   -9.66e+04\n",
       "Condition_Fair      -2.732e+04   1.11e+04     -2.461      0.014   -4.91e+04   -5557.527\n",
       "Condition_Good       2.744e+04   2329.926     11.777      0.000    2.29e+04     3.2e+04\n",
       "Condition_Poor      -1.164e+05   2.72e+04     -4.285      0.000    -1.7e+05   -6.32e+04\n",
       "Condition_Very_Good  5.273e+04   3655.328     14.425      0.000    4.56e+04    5.99e+04\n",
       "Grade_Above_Average -6.646e-08   1.99e-08     -3.348      0.001   -1.05e-07   -2.76e-08\n",
       "Grade_High_Quality   -3.36e-08      1e-08     -3.355      0.001   -5.32e-08    -1.4e-08\n",
       "second_chunk        -4.435e+04   3725.030    -11.907      0.000   -5.17e+04   -3.71e+04\n",
       "third_chunk         -8.407e+04   3712.507    -22.645      0.000   -9.13e+04   -7.68e+04\n",
       "fourth_chunk        -9.624e+04   4172.531    -23.065      0.000   -1.04e+05   -8.81e+04\n",
       "fifth_chunk         -8.945e+04   4607.056    -19.417      0.000   -9.85e+04   -8.04e+04\n",
       "renovation_10        7.365e+04   8586.748      8.578      0.000    5.68e+04    9.05e+04\n",
       "Section_2            1.222e+04   3178.242      3.845      0.000    5990.236    1.84e+04\n",
       "Section_3           -1.332e+05   1.32e+04    -10.126      0.000   -1.59e+05   -1.07e+05\n",
       "Section_4           -1.494e+05   2859.464    -52.265      0.000   -1.55e+05   -1.44e+05\n",
       "Section_5           -1.323e+05   3177.797    -41.632      0.000   -1.39e+05   -1.26e+05\n",
       "Section_6            -1.38e+05   6323.399    -21.831      0.000    -1.5e+05   -1.26e+05\n",
       "Section_7           -2.446e+05   4473.704    -54.669      0.000   -2.53e+05   -2.36e+05\n",
       "Section_8           -2.415e+05   4246.920    -56.869      0.000    -2.5e+05   -2.33e+05\n",
       "Section_9            -2.84e+05   8.56e+04     -3.319      0.001   -4.52e+05   -1.16e+05\n",
       "==============================================================================\n",
       "Omnibus:                     1812.327   Durbin-Watson:                   1.998\n",
       "Prob(Omnibus):                  0.000   Jarque-Bera (JB):             3279.935\n",
       "Skew:                           0.692   Prob(JB):                         0.00\n",
       "Kurtosis:                       4.568   Cond. No.                     1.10e+16\n",
       "==============================================================================\n",
       "\n",
       "Notes:\n",
       "[1] Standard Errors assume that the covariance matrix of the errors is correctly specified.\n",
       "[2] The smallest eigenvalue is 9.99e-21. This might indicate that there are\n",
       "strong multicollinearity problems or that the design matrix is singular.\n",
       "\"\"\""
      ]
     },
     "execution_count": 13,
     "metadata": {},
     "output_type": "execute_result"
    }
   ],
   "source": [
    "model_3 = ols(formula=formula, data=model_3_data).fit()\n",
    "model_3.summary()"
   ]
  },
  {
   "cell_type": "markdown",
   "metadata": {},
   "source": []
  },
  {
   "cell_type": "markdown",
   "metadata": {},
   "source": [
    " #### Assumption of Normality<br>&emsp;(for Model_3)"
   ]
  },
  {
   "cell_type": "code",
   "execution_count": 14,
   "metadata": {},
   "outputs": [
    {
     "data": {
      "image/png": "[encoded data removed]",
      "text/plain": [
       "<Figure size 432x288 with 1 Axes>"
      ]
     },
     "metadata": {
      "needs_background": "light"
     },
     "output_type": "display_data"
    }
   ],
   "source": [
    "residuals = model_3.resid\n",
    "fig = sm.graphics.qqplot(residuals, dist=stats.norm, fit=True, line='45', alpha=0.2)\n",
    "plt.title('Third Model', size=12);"
   ]
  },
  {
   "cell_type": "markdown",
   "metadata": {},
   "source": [
    "#### Assumption of Homoscedasticity<br>&emsp;(for Model_3)"
   ]
  },
  {
   "cell_type": "code",
   "execution_count": 15,
   "metadata": {},
   "outputs": [
    {
     "data": {
      "image/png": "[encoded data removed]",
      "text/plain": [
       "<Figure size 432x288 with 1 Axes>"
      ]
     },
     "metadata": {
      "needs_background": "light"
     },
     "output_type": "display_data"
    }
   ],
   "source": [
    "fig1,ax1 = plt.subplots()\n",
    "ax1.scatter(x=model_3.predict(), y=residuals, color='green', alpha=0.2)\n",
    "plt.title('Third Model', size=12);"
   ]
  },
  {
   "cell_type": "code",
   "execution_count": 16,
   "metadata": {},
   "outputs": [],
   "source": [
    "x_data = model_3_data.drop(['price'], axis=1)\n",
    "y_data = model_3_data.price"
   ]
  },
  {
   "cell_type": "code",
   "execution_count": 17,
   "metadata": {},
   "outputs": [],
   "source": [
    "X_train, X_test, Y_train, Y_test = train_test_split(x_data, y_data, test_size=0.3, random_state=42)"
   ]
  },
  {
   "cell_type": "code",
   "execution_count": 18,
   "metadata": {},
   "outputs": [],
   "source": [
    "linreg = LinearRegression()\n",
    "linreg.fit(X_train, Y_train)\n",
    "\n",
    "y_estimate_train = linreg.predict(X_train)\n",
    "y_estimate_test = linreg.predict(X_test)"
   ]
  },
  {
   "cell_type": "code",
   "execution_count": 19,
   "metadata": {},
   "outputs": [
    {
     "name": "stdout",
     "output_type": "stream",
     "text": [
      "120154.72350157917 122190.1094198686\n"
     ]
    }
   ],
   "source": [
    "train_rmse = mean_squared_error(Y_train, y_estimate_train, squared=False)\n",
    "test_rmse = mean_squared_error(Y_test, y_estimate_test, squared=False)\n",
    "print(train_rmse, test_rmse)"
   ]
  },
  {
   "cell_type": "code",
   "execution_count": 20,
   "metadata": {},
   "outputs": [],
   "source": [
    "model_3_data.to_csv('data/model_3_data.csv', index=False)"
   ]
  },
  {
   "cell_type": "code",
   "execution_count": null,
   "metadata": {},
   "outputs": [],
   "source": []
  }
 ],
 "metadata": {
  "kernelspec": {
   "display_name": "Python 3",
   "language": "python",
   "name": "python3"
  },
  "language_info": {
   "codemirror_mode": {
    "name": "ipython",
    "version": 3
   },
   "file_extension": ".py",
   "mimetype": "text/x-python",
   "name": "python",
   "nbconvert_exporter": "python",
   "pygments_lexer": "ipython3",
   "version": "3.8.5"
  }
 },
 "nbformat": 4,
 "nbformat_minor": 4
}
